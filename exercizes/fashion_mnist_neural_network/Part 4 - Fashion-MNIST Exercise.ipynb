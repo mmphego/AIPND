{
 "cells": [
  {
   "cell_type": "code",
   "execution_count": null,
   "metadata": {},
   "outputs": [],
   "source": [
    "!pip install pytorch==0.4.0 torchvision==0.2.1 numpy==1.12.1"
   ]
  },
  {
   "cell_type": "code",
   "execution_count": null,
   "metadata": {},
   "outputs": [],
   "source": [
    "import torch\n",
    "import torchvision\n",
    "\n",
    "from torchvision import datasets, transforms\n",
    "\n",
    "import helper\n",
    "\n",
    "print(f\"Pytorch version: {torch.__version__}\")\n",
    "print(f\"Torchvision version: {torchvision.__version__}\")\n",
    "      \n",
    "# Define a transform to normalize the data\n",
    "transform = transforms.Compose([transforms.ToTensor(),\n",
    "                                transforms.Normalize((0.5, 0.5, 0.5), (0.5, 0.5, 0.5))])\n",
    "# Download and load the training data\n",
    "trainset = datasets.FashionMNIST('F_MNIST_data/', download=True, train=True, transform=transform)\n",
    "trainloader = torch.utils.data.DataLoader(trainset, batch_size=64, shuffle=True)\n",
    "\n",
    "# Download and load the test data\n",
    "testset = datasets.FashionMNIST('F_MNIST_data/', download=True, train=False, transform=transform)\n",
    "testloader = torch.utils.data.DataLoader(testset, batch_size=64, shuffle=True)"
   ]
  },
  {
   "cell_type": "markdown",
   "metadata": {},
   "source": [
    "# Classifying Fashion-MNIST\n",
    "\n",
    "Now it's your turn to build and train a neural network. You'll be using the [Fashion-MNIST dataset](https://github.com/zalandoresearch/fashion-mnist), a drop-in replacement for the MNIST dataset. MNIST is actually quite trivial with neural networks where you can easily achieve better than 97% accuracy. Fashion-MNIST is a set of 28x28 greyscale images of clothes. It's more complex than MNIST, so it's a better representation of the actual performance of your network, and a better representation of datasets you'll use in the real world.\n",
    "\n",
    "<img src='assets/fashion-mnist-sprite.png' width=500px>\n",
    "\n",
    "In this notebook, you'll build your own neural network. For the most part, you could just copy and paste the code from Part 3, but you wouldn't be learning. It's important for you to write the code yourself and get it to work. Feel free to consult the previous notebook though as you work through this.\n",
    "\n",
    "First off, let's load the dataset through torchvision."
   ]
  },
  {
   "cell_type": "markdown",
   "metadata": {},
   "source": [
    "Here we can see one of the images."
   ]
  },
  {
   "cell_type": "code",
   "execution_count": 10,
   "metadata": {},
   "outputs": [
    {
     "data": {
      "image/png": "[encoded data removed]",
      "text/plain": [
       "<matplotlib.figure.Figure at 0x7fc6c47725f8>"
      ]
     },
     "metadata": {
      "image/png": {
       "height": 233,
       "width": 233
      },
      "needs_background": "light"
     },
     "output_type": "display_data"
    }
   ],
   "source": [
    "image, label = next(iter(trainloader))\n",
    "helper.imshow(image[0,:]);\n"
   ]
  },
  {
   "cell_type": "markdown",
   "metadata": {},
   "source": [
    "With the data loaded, it's time to import the necessary packages."
   ]
  },
  {
   "cell_type": "code",
   "execution_count": 11,
   "metadata": {},
   "outputs": [
    {
     "name": "stdout",
     "output_type": "stream",
     "text": [
      "Numpy version: 1.12.1\n"
     ]
    },
    {
     "data": {
      "text/plain": [
       "'/home/workspace/DL_PyTorch/helper.py'"
      ]
     },
     "execution_count": 11,
     "metadata": {},
     "output_type": "execute_result"
    }
   ],
   "source": [
    "%matplotlib inline\n",
    "%config InlineBackend.figure_format = 'retina'\n",
    "from collections import OrderedDict\n",
    "\n",
    "import matplotlib.pyplot as plt\n",
    "import numpy as np\n",
    "import time\n",
    "\n",
    "import torch\n",
    "from torch import nn as neural_network\n",
    "from torch import optim\n",
    "import torch.nn.functional as F\n",
    "from torchvision import datasets, transforms\n",
    "\n",
    "import helper\n",
    "\n",
    "print(f\"Numpy version: {np.__version__}\")\n",
    "helper.__file__"
   ]
  },
  {
   "cell_type": "markdown",
   "metadata": {},
   "source": [
    "## Building the network\n",
    "\n",
    "Here you should define your network. As with MNIST, each image is 28x28 which is a total of 784 pixels, and there are 10 classes. You should include at least one hidden layer. We suggest you use ReLU activations for the layers and to return the logits from the forward pass. It's up to you how many layers you add and the size of those layers."
   ]
  },
  {
   "cell_type": "code",
   "execution_count": 12,
   "metadata": {},
   "outputs": [
    {
     "data": {
      "text/plain": [
       "NeuralNetwork(\n",
       "  (input_func): Linear(in_features=784, out_features=128, bias=True)\n",
       "  (hidden): Linear(in_features=128, out_features=64, bias=True)\n",
       "  (output_func): Linear(in_features=64, out_features=10, bias=True)\n",
       ")"
      ]
     },
     "execution_count": 12,
     "metadata": {},
     "output_type": "execute_result"
    }
   ],
   "source": [
    "# TODO: Define your network architecture here\n",
    "class NeuralNetwork(neural_network.Module):\n",
    "    def __init__(self):\n",
    "        super().__init__()\n",
    "        \n",
    "        img_dimentions = 28 * 28\n",
    "        n_classes = 10\n",
    "        n_units = 128\n",
    "        \n",
    "        self.input_func = neural_network.Linear(img_dimentions, n_units)\n",
    "        # Hidden Layer\n",
    "        self.hidden = neural_network.Linear(n_units, (n_units // 2))\n",
    "        self.output_func = neural_network.Linear((n_units // 2), n_classes)\n",
    "        \n",
    "    def forward(self, x):\n",
    "        \"\"\"Forward pass through the network. returns\"\"\"\n",
    "        x = self.input_func(x)\n",
    "        # Activation\n",
    "        x = F.relu(x)\n",
    "        x = self.hidden(x)\n",
    "        # Activation\n",
    "        x = F.relu(x)\n",
    "        x = self.output_func(x)\n",
    "        x = F.softmax(x, dim=1)\n",
    "        \n",
    "        return x\n",
    "\n",
    "model = NeuralNetwork()\n",
    "model"
   ]
  },
  {
   "cell_type": "markdown",
   "metadata": {},
   "source": [
    "# Train the network\n",
    "\n",
    "Now you should create your network and train it. First you'll want to define [the criterion](http://pytorch.org/docs/master/nn.html#loss-functions) ( something like `nn.CrossEntropyLoss`) and [the optimizer](http://pytorch.org/docs/master/optim.html) (typically `optim.SGD` or `optim.Adam`).\n",
    "\n",
    "Then write the training code. Remember the training pass is a fairly straightforward process:\n",
    "\n",
    "* Make a forward pass through the network to get the logits \n",
    "* Use the logits to calculate the loss\n",
    "* Perform a backward pass through the network with `loss.backward()` to calculate the gradients\n",
    "* Take a step with the optimizer to update the weights\n",
    "\n",
    "By adjusting the hyperparameters (hidden units, learning rate, etc), you should be able to get the training loss below 0.4."
   ]
  },
  {
   "cell_type": "code",
   "execution_count": null,
   "metadata": {},
   "outputs": [],
   "source": []
  },
  {
   "cell_type": "code",
   "execution_count": 21,
   "metadata": {},
   "outputs": [
    {
     "name": "stdout",
     "output_type": "stream",
     "text": [
      "Epoch: 1 / 10\n",
      "Loss: 1.7257845199108124\n",
      "===================================\n",
      "Epoch: 2 / 10\n",
      "Loss: 0.2141893515586853\n",
      "===================================\n",
      "Epoch: 2 / 10\n",
      "Loss: 1.7297572121620177\n",
      "===================================\n",
      "Epoch: 3 / 10\n",
      "Loss: 0.4289261553287506\n",
      "===================================\n",
      "Epoch: 3 / 10\n",
      "Loss: 1.7270342059135437\n",
      "===================================\n",
      "Epoch: 4 / 10\n",
      "Loss: 0.642313747882843\n",
      "===================================\n",
      "Epoch: 4 / 10\n",
      "Loss: 1.72790967297554\n",
      "===================================\n",
      "Epoch: 5 / 10\n",
      "Loss: 0.8577333931922912\n",
      "===================================\n",
      "Epoch: 5 / 10\n",
      "Loss: 1.7261817710399627\n",
      "===================================\n",
      "Epoch: 6 / 10\n",
      "Loss: 1.0718179593086243\n",
      "===================================\n",
      "Epoch: 6 / 10\n",
      "Loss: 1.7289445798397065\n",
      "===================================\n",
      "Epoch: 7 / 10\n",
      "Loss: 1.2852044572830201\n",
      "===================================\n",
      "Epoch: 7 / 10\n",
      "Loss: 1.7291297807693482\n",
      "===================================\n",
      "Epoch: 8 / 10\n",
      "Loss: 1.5003753147125245\n",
      "===================================\n",
      "Epoch: 8 / 10\n",
      "Loss: 1.7283033211231231\n",
      "===================================\n",
      "Epoch: 9 / 10\n",
      "Loss: 1.7154060299396514\n",
      "===================================\n",
      "Epoch: 10 / 10\n",
      "Loss: 0.20011412024497985\n",
      "===================================\n",
      "Epoch: 10 / 10\n",
      "Loss: 1.7276363093852998\n",
      "===================================\n"
     ]
    }
   ],
   "source": [
    "# Implement a stochastic gradient descent with a learning rate.\n",
    "learning_rate = 0.00001\n",
    "optimizer = optim.SGD(model.parameters(), lr=learning_rate)\n",
    "criterion = neural_network.CrossEntropyLoss()\n",
    "\n",
    "epochs = 10\n",
    "print_every = 500\n",
    "steps = 0\n",
    "\n",
    "for epoch in range(epochs):\n",
    "    running_loss = 0\n",
    "    for images, labels in iter(trainloader):\n",
    "        steps += 1\n",
    "        # Flaten MNIST images into a 784 long vector\n",
    "        images.resize_(images.size()[0], 784)\n",
    "\n",
    "        # Clear the gradients, as gradients accumulate so we need to ensure that there are no outliers.\n",
    "        optimizer.zero_grad()\n",
    "\n",
    "        # Make a forward pass through the network to get the logits \n",
    "        output = model.forward(images)\n",
    "\n",
    "        # Use the logits to calculate the actual loss\n",
    "        loss = criterion(output, labels) # What does this do?\n",
    "        \n",
    "        # Perform a backward pass through the network with `loss.backward()` to calculate the gradients\n",
    "        loss.backward()\n",
    "        \n",
    "        # Take a step with the optimizer to update the weights      \n",
    "        optimizer.step() # Performs a single optimization step.\n",
    "        running_loss += loss.item()\n",
    "        \n",
    "        if steps % print_every == 0:\n",
    "            print(f\"Epoch: {epoch + 1} / {epochs}\\n\"\n",
    "                  f\"Loss: {running_loss / print_every}\\n\"\n",
    "                  \"===================================\")\n",
    "            running_loss = 0\n",
    "        "
   ]
  },
  {
   "cell_type": "code",
   "execution_count": 34,
   "metadata": {},
   "outputs": [
    {
     "data": {
      "image/png": "[encoded data removed]",
      "text/plain": [
       "<matplotlib.figure.Figure at 0x7fc6c88acf28>"
      ]
     },
     "metadata": {
      "image/png": {
       "height": 204,
       "width": 423
      },
      "needs_background": "light"
     },
     "output_type": "display_data"
    }
   ],
   "source": [
    "# Test out your network!\n",
    "\n",
    "images, labels = next(iter(testloader))\n",
    "img = images[0]\n",
    "# Convert 2D image to 1D vector\n",
    "img = img.resize_(1, 784)\n",
    "\n",
    "# TODO: Calculate the class probabilities (softmax) for img\n",
    "with torch.no_grad():\n",
    "    logits = model.forward(img)\n",
    "    \n",
    "output = F.softmax(logits, dim=1)\n",
    "\n",
    "# Plot the image and probabilities\n",
    "helper.view_classify(img.resize_(1, 28, 28), output, version='Fashion')"
   ]
  },
  {
   "cell_type": "code",
   "execution_count": null,
   "metadata": {},
   "outputs": [],
   "source": [
    "output = F.softmax"
   ]
  },
  {
   "cell_type": "markdown",
   "metadata": {},
   "source": [
    "Now that your network is trained, you'll want to save it to disk so you can load it later instead of training it again. Obviously, it's impractical to train a network every time you need one. In practice, you'll train it once, save the model, then reload it for further training or making predictions. In the next part, I'll show you how to save and load trained models."
   ]
  }
 ],
 "metadata": {
  "kernelspec": {
   "display_name": "Python 3",
   "language": "python",
   "name": "python3"
  },
  "language_info": {
   "codemirror_mode": {
    "name": "ipython",
    "version": 3
   },
   "file_extension": ".py",
   "mimetype": "text/x-python",
   "name": "python",
   "nbconvert_exporter": "python",
   "pygments_lexer": "ipython3",
   "version": "3.6.3"
  }
 },
 "nbformat": 4,
 "nbformat_minor": 2
}
